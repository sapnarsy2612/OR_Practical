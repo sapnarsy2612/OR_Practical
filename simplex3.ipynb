{
  "nbformat": 4,
  "nbformat_minor": 0,
  "metadata": {
    "colab": {
      "name": "simplex3.ipynb",
      "provenance": [],
      "authorship_tag": "ABX9TyO4aDHqs3mM1X/8DrQbKKET"
    },
    "kernelspec": {
      "name": "python3",
      "display_name": "Python 3"
    },
    "language_info": {
      "name": "python"
    }
  },
  "cells": [
    {
      "cell_type": "code",
      "metadata": {
        "id": "_M-WH_TrDbF9"
      },
      "source": [
        "import numpy as np  \n",
        "import scipy  \n",
        "from scipy.optimize import linprog"
      ],
      "execution_count": 19,
      "outputs": []
    },
    {
      "cell_type": "code",
      "metadata": {
        "id": "uVOtHCgJEoZ4"
      },
      "source": [
        "obj = [1, -3, 2]"
      ],
      "execution_count": 6,
      "outputs": []
    },
    {
      "cell_type": "code",
      "metadata": {
        "id": "Ed3hm8NoEwpN"
      },
      "source": [
        "lhs_ineq =  [[3, -1, 3], [-2, 4, 0], [-4, 3, 8] ]"
      ],
      "execution_count": 13,
      "outputs": []
    },
    {
      "cell_type": "code",
      "metadata": {
        "id": "WEVbE0paFXeX"
      },
      "source": [
        "rhs_ineq = [7, 12, 10]"
      ],
      "execution_count": 14,
      "outputs": []
    },
    {
      "cell_type": "code",
      "metadata": {
        "id": "PiIPcy-XFdCN"
      },
      "source": [
        "bnd = [(0, float(\"inf\")), (0, float(\"inf\")), (0, float(\"inf\"))]"
      ],
      "execution_count": 17,
      "outputs": []
    },
    {
      "cell_type": "code",
      "metadata": {
        "id": "EkG8bAYVF3kE"
      },
      "source": [
        "opt = linprog(c = obj, A_ub = lhs_ineq, b_ub = rhs_ineq, bounds = bnd, method = \"revised simplex\")"
      ],
      "execution_count": 20,
      "outputs": []
    },
    {
      "cell_type": "code",
      "metadata": {
        "colab": {
          "base_uri": "https://localhost:8080/"
        },
        "id": "kfSpxBNOGadu",
        "outputId": "87e11c4c-9877-4fbd-96d2-e4a1c6b98fdb"
      },
      "source": [
        "opt"
      ],
      "execution_count": 21,
      "outputs": [
        {
          "output_type": "execute_result",
          "data": {
            "text/plain": [
              "     con: array([], dtype=float64)\n",
              "     fun: -11.0\n",
              " message: 'Optimization terminated successfully.'\n",
              "     nit: 2\n",
              "   slack: array([ 0.,  0., 11.])\n",
              "  status: 0\n",
              " success: True\n",
              "       x: array([4., 5., 0.])"
            ]
          },
          "metadata": {},
          "execution_count": 21
        }
      ]
    },
    {
      "cell_type": "code",
      "metadata": {
        "id": "rhINanIHGbyv"
      },
      "source": [
        ""
      ],
      "execution_count": null,
      "outputs": []
    }
  ]
}